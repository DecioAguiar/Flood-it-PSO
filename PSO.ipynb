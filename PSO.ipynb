{
 "cells": [
  {
   "cell_type": "code",
   "execution_count": null,
   "metadata": {
    "collapsed": true
   },
   "outputs": [],
   "source": [
    "import random\n",
    "import copy\n",
    "import numpy as np"
   ]
  },
  {
   "cell_type": "markdown",
   "metadata": {},
   "source": [
    "## Regiões do tabuleiro são agrupamentos de vértices"
   ]
  },
  {
   "cell_type": "code",
   "execution_count": null,
   "metadata": {
    "collapsed": true
   },
   "outputs": [],
   "source": [
    "Regioes = []\n",
    "\n",
    "Regiao1 = [0,1,3]\n",
    "Regioes.append(Regiao1)\n",
    "\n",
    "Regiao2 = [2]\n",
    "Regioes.append(Regiao2)\n",
    "\n",
    "Regiao3 = [4]\n",
    "Regioes.append(Regiao3)\n",
    "\n",
    "Regiao4 = [5]\n",
    "Regioes.append(Regiao4)\n",
    "\n",
    "Regiao5 = [6,7]\n",
    "Regioes.append(Regiao5)\n",
    "\n",
    "Regiao6 = [8]\n",
    "Regioes.append(Regiao6)"
   ]
  },
  {
   "cell_type": "code",
   "execution_count": null,
   "metadata": {
    "collapsed": true
   },
   "outputs": [],
   "source": [
    "regioesAdjacentes = []\n",
    "adj1 = [2, 4, 5]\n",
    "adj2 = [1, 4]\n",
    "adj3 = [1, 4, 5]\n",
    "adj4 = [2, 3, 6]\n",
    "adj5 = [1, 3, 6]\n",
    "adj6 = [4, 5]\n",
    "\n",
    "regioesAdjacentes.append(adj1)\n",
    "regioesAdjacentes.append(adj2)\n",
    "regioesAdjacentes.append(adj3)\n",
    "regioesAdjacentes.append(adj4)\n",
    "regioesAdjacentes.append(adj5)\n",
    "regioesAdjacentes.append(adj6)"
   ]
  },
  {
   "cell_type": "markdown",
   "metadata": {},
   "source": [
    "Na versão de testes o tabuleiro possui 4 cores"
   ]
  },
  {
   "cell_type": "code",
   "execution_count": null,
   "metadata": {
    "collapsed": true
   },
   "outputs": [],
   "source": [
    "import pandas as pd\n",
    "Cores = [\"Azul\", \"Preto\", \"Vermelho\", \"Verde\"]\n",
    "cores_dic = pd.Series(Cores)"
   ]
  },
  {
   "cell_type": "markdown",
   "metadata": {},
   "source": [
    "Regioes e suas cores"
   ]
  },
  {
   "cell_type": "code",
   "execution_count": null,
   "metadata": {
    "collapsed": true
   },
   "outputs": [],
   "source": [
    "vetCores = []\n",
    "\n",
    "Azul = [1, 4]\n",
    "Preto = [2, 3]\n",
    "Vermelho = [5]\n",
    "Verde = [6]\n",
    "\n",
    "vetCores.append(Azul)\n",
    "vetCores.append(Preto)\n",
    "vetCores.append(Vermelho)\n",
    "vetCores.append(Verde)"
   ]
  },
  {
   "cell_type": "code",
   "execution_count": null,
   "metadata": {
    "collapsed": true
   },
   "outputs": [],
   "source": [
    "def regiao(vertice, regioes):\n",
    "    for i in range (len(regioes)):\n",
    "        if vertice in Regioes[i]:\n",
    "            return i+1\n",
    "\n",
    "def tamanhoCores(vertice):\n",
    "   \n",
    "    i = regiao(vertice, Regioes)\n",
    "    for j in range(len(vetCores)):        \n",
    "        lista = vetCores[j]\n",
    "        if i in lista:\n",
    "            return len(vetCores[j])\n",
    "\n",
    "def corRegiao(regiao, Cores):\n",
    "    \n",
    "    for i in range(len(Cores)):\n",
    "        lista = Cores[i]\n",
    "        if regiao in lista:\n",
    "            return i\n",
    "\n",
    "def inundar(posicao):\n",
    "    \n",
    "    posicaoLista = list(posicao)\n",
    "    pos_copia = list(posicao)\n",
    "    pos_copia.sort(reverse=True)\n",
    "\n",
    "    copia_Regioes = copy.copy(Regioes)\n",
    "    copia_Regioes_adj = copy.copy(regioesAdjacentes)\n",
    "    copia_Cores = copy.copy(vetCores)\n",
    "\n",
    "    cont = 0\n",
    "    for i in range(len(posicao)):\n",
    "        valor = pos_copia[i]\n",
    "        vertice = posicaoLista.index(valor)\n",
    "\n",
    "        regiao_inundada = len(copia_Regioes[0])\n",
    "        print(regiao_inundada)\n",
    "        if(regiao_inundada == 9):\n",
    "            return cont\n",
    "\n",
    "        regiao_vertice = regiao(vertice, copia_Regioes)\n",
    "        cor_vertice = corRegiao(regiao_vertice, copia_Cores)\n",
    "\n",
    "        cor_Regiao_fixa = corRegiao(1,copia_Cores)\n",
    "\n",
    "        copia_Cores[cor_Regiao_fixa].remove(1)\n",
    "        copia_Cores[cor_vertice].append(1)\n",
    "\n",
    "        adjacentes_fixo = copia_Regioes_adj[0]\n",
    "        for j in range(len(adjacentes_fixo)):\n",
    "            adj = adjacentes_fixo[j]\n",
    "            cor_adj = corRegiao(adj, copia_Cores)\n",
    "            if(cor_adj == cor_vertice):\n",
    "                copia_Regioes[0].extend(copia_Regioes[adj-1])\n",
    "                copia_Regioes[adj-1] = []\n",
    "        cont +=1\n",
    "    return cont"
   ]
  },
  {
   "cell_type": "code",
   "execution_count": null,
   "metadata": {
    "collapsed": true
   },
   "outputs": [],
   "source": [
    "import numpy as np\n",
    "\n",
    "class Particula:\n",
    "    \n",
    "    def __init__(self, pos):\n",
    "        self.fitness = 999\n",
    "        self.posicao = np.array(pos)\n",
    "        self.velocidade = np.zeros(9)\n",
    "\n",
    "    def __lt__(self, other):\n",
    "        return (self.fitness < other.fitness)\n",
    "\n",
    "    def __eq__(self, other):\n",
    "        return (self.fitness == other.fitness)\n",
    "\n",
    "    def __gt__(self, other):\n",
    "        return(self.fitness > other.fitness)\n",
    "\n",
    "    def __le__(self, other):\n",
    "        return(self.fitness <= other.fitness)\n",
    "\n",
    "    def __cmp__(self, other):\n",
    "        if self.fitness < other.fitness:\n",
    "            return -1\n",
    "        elif self.fitness > other.fitness:\n",
    "            return 1\n",
    "        else:\n",
    "            return 0\n",
    "            \n",
    "    def __sub__(self, other):\n",
    "        return Particula(self.posicao - other.posicao)\n",
    "    \n",
    "    def __add__(self,other):\n",
    "        return Particula(self.posicao + other.posicao)\n",
    "\n",
    "    def __mul__(self,other):\n",
    "        if(type(other)==float or type(other)==int):\n",
    "            return Particula(other * self.posicao)\n",
    "        return Particula(self.posicao * other.posicao)\n",
    "        \n",
    "    def __repr__(self) :\n",
    "        return str(self.posicao)\n",
    "\n",
    "    def printSolution(self) :\n",
    "        return self.__repr__()"
   ]
  },
  {
   "cell_type": "code",
   "execution_count": null,
   "metadata": {
    "collapsed": true
   },
   "outputs": [],
   "source": [
    "class PSO:\n",
    "    def __init__(self, popsize=4, iterations=4, elitism=0.8, stringlen=10, mutRate=0.3):\n",
    "        self.popsize = popsize\n",
    "        self.iterations = iterations\n",
    "        self.inercia = elitism\n",
    "        self.posLen = stringlen\n",
    "        self.C1 = mutRate\n",
    "        self.C2 = mutRate\n",
    "        self.poplist = []      \n",
    "        \n",
    "    def makeInitialPopulation(self):\n",
    "        self.poplist = []\n",
    "        for i in range(self.popsize):\n",
    "            pos = []\n",
    "            for j in range (self.posLen):\n",
    "                conti = tamanhoCores(j)\n",
    "                prob = ( (3 * 10) + random.uniform(1,100) )/1000\n",
    "                pos.append(prob)\n",
    "            self.poplist.append(Particula(pos))\n",
    "\n",
    "    def assignFitness(self):\n",
    "        for i in range(0,(self.popsize)):\n",
    "            self.poplist[i].fitness = self.objective(self.poplist[i].posicao)\n",
    "\n",
    "    def objective(self,pos):\n",
    "        return inundar(pos)\n",
    "\n",
    "    def AtualizaVelocidades(self):\n",
    "        self.poplist.sort()\n",
    "        pbest = self.poplist[0]\n",
    "        gbest = self.poplist[1]\n",
    "        \n",
    "        for particula in self.poplist:\n",
    "            flag = True\n",
    "            while(flag):\n",
    "                wv = []\n",
    "                wv.append(particula.velocidade[0] * self.inercia)\n",
    "                wv.append(particula.velocidade[1] * self.inercia)\n",
    "                wv.append(particula.velocidade[2] * self.inercia)\n",
    "                wv.append(particula.velocidade[3] * self.inercia)\n",
    "                wv.append(particula.velocidade[4] * self.inercia)\n",
    "                wv.append(particula.velocidade[5] * self.inercia)\n",
    "                wv.append(particula.velocidade[6] * self.inercia)\n",
    "                wv.append(particula.velocidade[7] * self.inercia)\n",
    "                wv.append(particula.velocidade[8] * self.inercia)\n",
    "\n",
    "                subp = (pbest - particula) * (self.C1 * random.random())\n",
    "                subg = (gbest - particula) * (self.C2 * random.random())\n",
    "\n",
    "                wv[0] = wv[0] + subp.posicao[0] + subg.posicao[0]\n",
    "                wv[1] = wv[1] + subp.posicao[1] + subg.posicao[1]\n",
    "                wv[2] = wv[2] + subp.posicao[2] + subg.posicao[2]\n",
    "                wv[3] = wv[3] + subp.posicao[3] + subg.posicao[3]\n",
    "                wv[4] = wv[4] + subp.posicao[4] + subg.posicao[4]\n",
    "                wv[5] = wv[5] + subp.posicao[5] + subg.posicao[5]\n",
    "                wv[6] = wv[6] + subp.posicao[6] + subg.posicao[6]\n",
    "                wv[7] = wv[7] + subp.posicao[7] + subg.posicao[7]\n",
    "                wv[8] = wv[8] + subp.posicao[8] + subg.posicao[8]\n",
    "\n",
    "                if ((wv[0] <= 0.3 or wv[0] >= -0.3) and (wv[1] <= 0.3 or wv[1] >= -0.3) and (wv[2] <= 0.3 or wv[2] >= -0.3)\n",
    "                   and (wv[3] <= 0.3 or wv[3] >= -0.3) and (wv[4] <= 0.3 or wv[4] >= -0.3) and (wv[5] <= 0.3 or wv[5] >= -0.3)\n",
    "                   and (wv[6] <= 0.3 or wv[6] >= -0.3) and (wv[7] <= 0.3 or wv[7] >= -0.3) and (wv[8] <= 0.3 or wv[8] >= -0.3)):\n",
    "                    particula.velocidade[0] = wv[0]\n",
    "                    particula.velocidade[1] = wv[1]\n",
    "                    particula.velocidade[2] = wv[2]\n",
    "                    particula.velocidade[3] = wv[3]\n",
    "                    particula.velocidade[4] = wv[4]\n",
    "                    particula.velocidade[5] = wv[5]\n",
    "                    particula.velocidade[6] = wv[6]\n",
    "                    particula.velocidade[7] = wv[7]\n",
    "                    particula.velocidade[8] = wv[8]\n",
    "                    \n",
    "                    flag = False\n",
    "            \n",
    "            \n",
    "    \n",
    "    def AtualizaPos(self):\n",
    "        \n",
    "        for particula in self.poplist:\n",
    "            x = particula.posicao[0] + particula.velocidade[0]\n",
    "            y = particula.posicao[1] + particula.velocidade[1]\n",
    "            new_pos = self.objective(x,y)\n",
    "            if(particula.fitness > new_pos):\n",
    "                particula.posicao[0] = x\n",
    "                particula.posicao[1] = y\n",
    "            \n",
    "    def runPSO(self):\n",
    "        self.makeInitialPopulation()\n",
    "\n",
    "        for i in range(1, self.iterations+1):\n",
    "            ### Gera o fitness de cada elemento da populacao\n",
    "            self.assignFitness()\n",
    "            \n",
    "            ### Encontra a melhor solucao da geracao atual\n",
    "            best = min(self.poplist)\n",
    "        \n",
    "            print ('Melhor solucao atual: ', best.printSolution() ,\", Fitness: \" ,str(best.fitness))\n",
    "            \n",
    "            #self.AtualizaVelocidades()\n",
    "            #self.AtualizaPos()\n",
    "            \n",
    "            \n",
    "            \n",
    "        ### Apresenta a melhor solucao final\n",
    "        self.assignFitness()\n",
    "        best = min(self.poplist)\n",
    "        print ('Melhor solucao atual: ', best.printSolution() ,\", Fitness: \" ,str(best.fitness))\n",
    "        "
   ]
  },
  {
   "cell_type": "code",
   "execution_count": null,
   "metadata": {},
   "outputs": [],
   "source": [
    "pso = PSO()\n",
    "pso.runPSO()"
   ]
  },
  {
   "cell_type": "code",
   "execution_count": null,
   "metadata": {
    "collapsed": true
   },
   "outputs": [],
   "source": [
    "tamanhoCores(6)"
   ]
  }
 ],
 "metadata": {
  "kernelspec": {
   "display_name": "Python 3",
   "language": "python",
   "name": "python3"
  },
  "language_info": {
   "codemirror_mode": {
    "name": "ipython",
    "version": 3
   },
   "file_extension": ".py",
   "mimetype": "text/x-python",
   "name": "python",
   "nbconvert_exporter": "python",
   "pygments_lexer": "ipython3",
   "version": "3.6.1"
  }
 },
 "nbformat": 4,
 "nbformat_minor": 2
}
